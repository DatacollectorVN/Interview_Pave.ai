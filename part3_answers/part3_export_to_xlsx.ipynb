{
 "cells": [
  {
   "cell_type": "code",
   "execution_count": 1,
   "id": "c8877c35",
   "metadata": {},
   "outputs": [],
   "source": [
    "import pandas as pd\n",
    "import duckdb"
   ]
  },
  {
   "cell_type": "code",
   "execution_count": null,
   "id": "746d96c0",
   "metadata": {},
   "outputs": [],
   "source": [
    "conn: duckdb.DuckDBPyConnection = duckdb.connect(\"../database/paveai.duckdb\")"
   ]
  },
  {
   "cell_type": "code",
   "execution_count": null,
   "id": "bc3c7bb9",
   "metadata": {},
   "outputs": [
    {
     "data": {
      "text/plain": [
       "<duckdb.duckdb.DuckDBPyConnection at 0x109961fb0>"
      ]
     },
     "execution_count": 3,
     "metadata": {},
     "output_type": "execute_result"
    }
   ],
   "source": [
    "conn.execute(\"\"\"\n",
    "CREATE OR REPLACE VIEW golden.v_inspector_analysis_unpivot AS\n",
    "SELECT DISTINCT\n",
    "    inspector_id,\n",
    "    'inspections' AS type,\n",
    "    total_inspections AS value \n",
    "FROM\n",
    "    golden.v_inspector_analysis\n",
    "\n",
    "UNION ALL\n",
    "            \n",
    "SELECT DISTINCT\n",
    "    inspector_id,\n",
    "    'contributions rate' AS type,\n",
    "    inspection_contributions_rate AS value \n",
    "FROM\n",
    "    golden.v_inspector_analysis\n",
    "\n",
    "UNION ALL\n",
    "            \n",
    "SELECT DISTINCT\n",
    "    inspector_id,\n",
    "    'contributions rate' AS type,\n",
    "    inspection_contributions_rate AS value \n",
    "FROM\n",
    "    golden.v_inspector_analysis\n",
    "\n",
    "UNION ALL\n",
    "             \n",
    "SELECT DISTINCT\n",
    "    inspector_id,\n",
    "    'accuracy rate' AS type,\n",
    "    rate_accuracy AS value \n",
    "FROM\n",
    "    golden.v_inspector_analysis\n",
    "\n",
    "             \n",
    "UNION ALL\n",
    "             \n",
    "SELECT DISTINCT\n",
    "    inspector_id,\n",
    "    'growth rate (monthly)' AS type,\n",
    "    inspection_growth_rate_monthly AS value \n",
    "FROM\n",
    "    golden.v_inspector_analysis\n",
    "\n",
    "\"\"\")"
   ]
  },
  {
   "cell_type": "code",
   "execution_count": 4,
   "id": "7ab31061",
   "metadata": {},
   "outputs": [],
   "source": [
    "# extract sliver layer\n",
    "df_dim_location: pd.DataFrame = conn.execute(\"SELECT * FROM sliver.dim_location\").fetch_df()\n",
    "df_dim_inspectors: pd.DataFrame = conn.execute(\"SELECT * FROM sliver.dim_inspectors\").fetch_df()\n",
    "df_dim_vehicles: pd.DataFrame = conn.execute(\"SELECT * FROM sliver.dim_vehicles\").fetch_df()\n",
    "df_dim_damage_reports: pd.DataFrame = conn.execute(\"SELECT * FROM sliver.dim_damage_reports\").fetch_df()\n",
    "df_hist_inspections: pd.DataFrame = conn.execute(\"SELECT * FROM sliver.hist_inspections\").fetch_df()\n",
    "df_dim_dates: pd.DataFrame = conn.execute(\"SELECT * FROM sliver.dim_dates\").fetch_df()\n",
    "df_dim_severity_scores: pd.DataFrame = conn.execute(\"SELECT * FROM sliver.dim_severity_scores\").fetch_df()\n",
    "df_fact_inspections: pd.DataFrame = conn.execute(\"SELECT * FROM sliver.fact_inspections\").fetch_df()"
   ]
  },
  {
   "cell_type": "code",
   "execution_count": 5,
   "id": "056fb400",
   "metadata": {},
   "outputs": [],
   "source": [
    "# extract golden layer\n",
    "df_v_avg_damage_cost_by_vehicle_type: pd.DataFrame = conn.execute(\"SELECT * FROM golden.v_avg_damage_cost_by_vehicle_type\").fetch_df()\n",
    "df_v_inspector_performance_scores: pd.DataFrame = conn.execute(\"SELECT * FROM golden.v_inspector_performance_scores\").fetch_df()\n",
    "df_v_geo_damanges_per_region: pd.DataFrame = conn.execute(\"SELECT * FROM golden.v_geo_damanges_per_region\").fetch_df()\n",
    "df_v_geo_damanges_per_location: pd.DataFrame = conn.execute(\"SELECT * FROM golden.v_geo_damanges_per_location\").fetch_df()\n",
    "df_v_inspection_trend: pd.DataFrame = conn.execute(\"SELECT * FROM golden.v_inspection_trend\").fetch_df()\n",
    "df_v_inspector_analysis: pd.DataFrame = conn.execute(\"SELECT * FROM golden.v_inspector_analysis\").fetch_df()\n",
    "df_v_inspector_analysis_unpivot: pd.DataFrame = conn.execute(\"SELECT * FROM golden.v_inspector_analysis_unpivot\").fetch_df()"
   ]
  },
  {
   "cell_type": "code",
   "execution_count": 6,
   "id": "f2beed07",
   "metadata": {},
   "outputs": [
    {
     "name": "stderr",
     "output_type": "stream",
     "text": [
      "/Users/nathanngo/miniconda3/envs/city_chicago/lib/python3.10/site-packages/openpyxl/workbook/child.py:99: UserWarning: Title is more than 31 characters. Some applications may not be able to read the file\n",
      "  warnings.warn(\"Title is more than 31 characters. Some applications may not be able to read the file\")\n"
     ]
    }
   ],
   "source": [
    "with pd.ExcelWriter('paveai_dataset.xlsx', engine='openpyxl') as writer:\n",
    "    df_v_avg_damage_cost_by_vehicle_type.to_excel(writer, sheet_name='v_avg_damage_cost_by_vehicle_type', index=False)\n",
    "    df_v_inspector_performance_scores.to_excel(writer, sheet_name='v_inspector_performance_scores', index=False)\n",
    "    df_v_geo_damanges_per_region.to_excel(writer, sheet_name='v_geo_damanges_per_region', index=False)\n",
    "    df_v_geo_damanges_per_location.to_excel(writer, sheet_name='v_geo_damanges_per_location', index=False)\n",
    "    df_v_inspection_trend.to_excel(writer, sheet_name='v_inspection_trend', index=False)\n",
    "    df_dim_location.to_excel(writer, sheet_name='dim_location', index=False)\n",
    "    df_dim_inspectors.to_excel(writer, sheet_name='dim_inspectors', index=False)\n",
    "    df_dim_vehicles.to_excel(writer, sheet_name='dim_vehicles', index=False)\n",
    "    df_dim_damage_reports.to_excel(writer, sheet_name='dim_damage_reports', index=False)\n",
    "    df_hist_inspections.to_excel(writer, sheet_name='hist_inspections', index=False)\n",
    "    df_dim_severity_scores.to_excel(writer, sheet_name='dim_severity_scores', index=False)\n",
    "    df_dim_dates.to_excel(writer, sheet_name='dim_dates', index=False)\n",
    "    df_fact_inspections.to_excel(writer, sheet_name='fact_inspections', index=False)\n",
    "    df_v_inspector_analysis.to_excel(writer, sheet_name='v_inspector_analysis', index=False)\n",
    "    df_v_inspector_analysis_unpivot.to_excel(writer, sheet_name='v_inspector_analysis_unpivot', index=False)"
   ]
  }
 ],
 "metadata": {
  "kernelspec": {
   "display_name": "city_chicago",
   "language": "python",
   "name": "python3"
  },
  "language_info": {
   "codemirror_mode": {
    "name": "ipython",
    "version": 3
   },
   "file_extension": ".py",
   "mimetype": "text/x-python",
   "name": "python",
   "nbconvert_exporter": "python",
   "pygments_lexer": "ipython3",
   "version": "3.10.18"
  }
 },
 "nbformat": 4,
 "nbformat_minor": 5
}
